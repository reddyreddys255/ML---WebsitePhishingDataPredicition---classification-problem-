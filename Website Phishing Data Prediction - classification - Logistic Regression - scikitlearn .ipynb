{
 "cells": [
  {
   "cell_type": "markdown",
   "metadata": {},
   "source": [
    "# Website Phishing Data Prediction - classification - logistic Regression - sklearn "
   ]
  },
  {
   "cell_type": "markdown",
   "metadata": {},
   "source": [
    "------The phishing problem is considered a vital issue in industry especially e-banking and e-commerce taking the number of    online transactions involving payments. \n",
    "\n",
    "------Identified different features related to legitimate and phishy websites and collected 1353 different websites from difference sources.\n",
    "\n",
    "------548 legitimate URLs +  702 phishing URLs + 103 suspicious URLs = 1353 websites.\n",
    "\n",
    "-------When a website is considered SUSPICIOUS that means it can be either phishy or legitimate, meaning the website held some legit and phishy features."
   ]
  },
  {
   "cell_type": "code",
   "execution_count": 73,
   "metadata": {
    "collapsed": true
   },
   "outputs": [],
   "source": [
    "import numpy as np \n",
    "import pandas as pd\n",
    "%matplotlib inline\n",
    "import matplotlib.pyplot as plt"
   ]
  },
  {
   "cell_type": "code",
   "execution_count": 74,
   "metadata": {},
   "outputs": [],
   "source": [
    "websitetrain = pd.read_csv(r\"D:\\Users\\dasarred\\Desktop\\WebsitePhishingData\\WebsitePhishingData.csv\",names =  [\"SFH\",\"popUpWidnow\",\"SSLfinal_State\",\"Request_URL\",\"URL_of_Anchor\",\"web_traffic\",\"URL_Length\",\"age_of_domain\",\"having_IP_Address\",\"Result\"],sep = ',')"
   ]
  },
  {
   "cell_type": "code",
   "execution_count": 75,
   "metadata": {},
   "outputs": [
    {
     "data": {
      "text/plain": [
       "pandas.core.frame.DataFrame"
      ]
     },
     "execution_count": 75,
     "metadata": {},
     "output_type": "execute_result"
    }
   ],
   "source": [
    "type(websitetrain)"
   ]
  },
  {
   "cell_type": "code",
   "execution_count": 76,
   "metadata": {},
   "outputs": [
    {
     "data": {
      "text/plain": [
       "(1353, 10)"
      ]
     },
     "execution_count": 76,
     "metadata": {},
     "output_type": "execute_result"
    }
   ],
   "source": [
    "websitetrain.shape"
   ]
  },
  {
   "cell_type": "code",
   "execution_count": 77,
   "metadata": {},
   "outputs": [
    {
     "data": {
      "text/html": [
       "<div>\n",
       "<style>\n",
       "    .dataframe thead tr:only-child th {\n",
       "        text-align: right;\n",
       "    }\n",
       "\n",
       "    .dataframe thead th {\n",
       "        text-align: left;\n",
       "    }\n",
       "\n",
       "    .dataframe tbody tr th {\n",
       "        vertical-align: top;\n",
       "    }\n",
       "</style>\n",
       "<table border=\"1\" class=\"dataframe\">\n",
       "  <thead>\n",
       "    <tr style=\"text-align: right;\">\n",
       "      <th></th>\n",
       "      <th>SFH</th>\n",
       "      <th>popUpWidnow</th>\n",
       "      <th>SSLfinal_State</th>\n",
       "      <th>Request_URL</th>\n",
       "      <th>URL_of_Anchor</th>\n",
       "      <th>web_traffic</th>\n",
       "      <th>URL_Length</th>\n",
       "      <th>age_of_domain</th>\n",
       "      <th>having_IP_Address</th>\n",
       "      <th>Result</th>\n",
       "    </tr>\n",
       "  </thead>\n",
       "  <tbody>\n",
       "    <tr>\n",
       "      <th>0</th>\n",
       "      <td>1</td>\n",
       "      <td>-1</td>\n",
       "      <td>1</td>\n",
       "      <td>-1</td>\n",
       "      <td>-1</td>\n",
       "      <td>1</td>\n",
       "      <td>1</td>\n",
       "      <td>1</td>\n",
       "      <td>0</td>\n",
       "      <td>0</td>\n",
       "    </tr>\n",
       "    <tr>\n",
       "      <th>1</th>\n",
       "      <td>-1</td>\n",
       "      <td>-1</td>\n",
       "      <td>-1</td>\n",
       "      <td>-1</td>\n",
       "      <td>-1</td>\n",
       "      <td>0</td>\n",
       "      <td>1</td>\n",
       "      <td>1</td>\n",
       "      <td>1</td>\n",
       "      <td>1</td>\n",
       "    </tr>\n",
       "    <tr>\n",
       "      <th>2</th>\n",
       "      <td>1</td>\n",
       "      <td>-1</td>\n",
       "      <td>0</td>\n",
       "      <td>0</td>\n",
       "      <td>-1</td>\n",
       "      <td>0</td>\n",
       "      <td>-1</td>\n",
       "      <td>1</td>\n",
       "      <td>0</td>\n",
       "      <td>1</td>\n",
       "    </tr>\n",
       "    <tr>\n",
       "      <th>3</th>\n",
       "      <td>1</td>\n",
       "      <td>0</td>\n",
       "      <td>1</td>\n",
       "      <td>-1</td>\n",
       "      <td>-1</td>\n",
       "      <td>0</td>\n",
       "      <td>1</td>\n",
       "      <td>1</td>\n",
       "      <td>0</td>\n",
       "      <td>0</td>\n",
       "    </tr>\n",
       "    <tr>\n",
       "      <th>4</th>\n",
       "      <td>-1</td>\n",
       "      <td>-1</td>\n",
       "      <td>1</td>\n",
       "      <td>-1</td>\n",
       "      <td>0</td>\n",
       "      <td>0</td>\n",
       "      <td>-1</td>\n",
       "      <td>1</td>\n",
       "      <td>0</td>\n",
       "      <td>1</td>\n",
       "    </tr>\n",
       "    <tr>\n",
       "      <th>5</th>\n",
       "      <td>-1</td>\n",
       "      <td>-1</td>\n",
       "      <td>1</td>\n",
       "      <td>-1</td>\n",
       "      <td>-1</td>\n",
       "      <td>1</td>\n",
       "      <td>0</td>\n",
       "      <td>-1</td>\n",
       "      <td>0</td>\n",
       "      <td>1</td>\n",
       "    </tr>\n",
       "    <tr>\n",
       "      <th>6</th>\n",
       "      <td>1</td>\n",
       "      <td>-1</td>\n",
       "      <td>0</td>\n",
       "      <td>1</td>\n",
       "      <td>-1</td>\n",
       "      <td>0</td>\n",
       "      <td>0</td>\n",
       "      <td>1</td>\n",
       "      <td>0</td>\n",
       "      <td>-1</td>\n",
       "    </tr>\n",
       "    <tr>\n",
       "      <th>7</th>\n",
       "      <td>1</td>\n",
       "      <td>0</td>\n",
       "      <td>1</td>\n",
       "      <td>1</td>\n",
       "      <td>0</td>\n",
       "      <td>0</td>\n",
       "      <td>0</td>\n",
       "      <td>1</td>\n",
       "      <td>1</td>\n",
       "      <td>-1</td>\n",
       "    </tr>\n",
       "    <tr>\n",
       "      <th>8</th>\n",
       "      <td>-1</td>\n",
       "      <td>-1</td>\n",
       "      <td>0</td>\n",
       "      <td>-1</td>\n",
       "      <td>-1</td>\n",
       "      <td>-1</td>\n",
       "      <td>-1</td>\n",
       "      <td>1</td>\n",
       "      <td>0</td>\n",
       "      <td>0</td>\n",
       "    </tr>\n",
       "    <tr>\n",
       "      <th>9</th>\n",
       "      <td>-1</td>\n",
       "      <td>0</td>\n",
       "      <td>-1</td>\n",
       "      <td>-1</td>\n",
       "      <td>1</td>\n",
       "      <td>1</td>\n",
       "      <td>0</td>\n",
       "      <td>-1</td>\n",
       "      <td>0</td>\n",
       "      <td>1</td>\n",
       "    </tr>\n",
       "  </tbody>\n",
       "</table>\n",
       "</div>"
      ],
      "text/plain": [
       "   SFH  popUpWidnow  SSLfinal_State  Request_URL  URL_of_Anchor  web_traffic  \\\n",
       "0    1           -1               1           -1             -1            1   \n",
       "1   -1           -1              -1           -1             -1            0   \n",
       "2    1           -1               0            0             -1            0   \n",
       "3    1            0               1           -1             -1            0   \n",
       "4   -1           -1               1           -1              0            0   \n",
       "5   -1           -1               1           -1             -1            1   \n",
       "6    1           -1               0            1             -1            0   \n",
       "7    1            0               1            1              0            0   \n",
       "8   -1           -1               0           -1             -1           -1   \n",
       "9   -1            0              -1           -1              1            1   \n",
       "\n",
       "   URL_Length  age_of_domain  having_IP_Address  Result  \n",
       "0           1              1                  0       0  \n",
       "1           1              1                  1       1  \n",
       "2          -1              1                  0       1  \n",
       "3           1              1                  0       0  \n",
       "4          -1              1                  0       1  \n",
       "5           0             -1                  0       1  \n",
       "6           0              1                  0      -1  \n",
       "7           0              1                  1      -1  \n",
       "8          -1              1                  0       0  \n",
       "9           0             -1                  0       1  "
      ]
     },
     "execution_count": 77,
     "metadata": {},
     "output_type": "execute_result"
    }
   ],
   "source": [
    "websitetrain.head(10)"
   ]
  },
  {
   "cell_type": "code",
   "execution_count": 78,
   "metadata": {},
   "outputs": [
    {
     "name": "stdout",
     "output_type": "stream",
     "text": [
      "<class 'pandas.core.frame.DataFrame'>\n",
      "RangeIndex: 1353 entries, 0 to 1352\n",
      "Data columns (total 10 columns):\n",
      "SFH                  1353 non-null int64\n",
      "popUpWidnow          1353 non-null int64\n",
      "SSLfinal_State       1353 non-null int64\n",
      "Request_URL          1353 non-null int64\n",
      "URL_of_Anchor        1353 non-null int64\n",
      "web_traffic          1353 non-null int64\n",
      "URL_Length           1353 non-null int64\n",
      "age_of_domain        1353 non-null int64\n",
      "having_IP_Address    1353 non-null int64\n",
      "Result               1353 non-null int64\n",
      "dtypes: int64(10)\n",
      "memory usage: 105.8 KB\n"
     ]
    }
   ],
   "source": [
    "websitetrain.info()"
   ]
  },
  {
   "cell_type": "code",
   "execution_count": 79,
   "metadata": {},
   "outputs": [],
   "source": [
    "websitetraincorr = websitetrain.corr()"
   ]
  },
  {
   "cell_type": "code",
   "execution_count": 80,
   "metadata": {},
   "outputs": [
    {
     "data": {
      "text/html": [
       "<div>\n",
       "<style>\n",
       "    .dataframe thead tr:only-child th {\n",
       "        text-align: right;\n",
       "    }\n",
       "\n",
       "    .dataframe thead th {\n",
       "        text-align: left;\n",
       "    }\n",
       "\n",
       "    .dataframe tbody tr th {\n",
       "        vertical-align: top;\n",
       "    }\n",
       "</style>\n",
       "<table border=\"1\" class=\"dataframe\">\n",
       "  <thead>\n",
       "    <tr style=\"text-align: right;\">\n",
       "      <th></th>\n",
       "      <th>SFH</th>\n",
       "      <th>popUpWidnow</th>\n",
       "      <th>SSLfinal_State</th>\n",
       "      <th>Request_URL</th>\n",
       "      <th>URL_of_Anchor</th>\n",
       "      <th>web_traffic</th>\n",
       "      <th>URL_Length</th>\n",
       "      <th>age_of_domain</th>\n",
       "      <th>having_IP_Address</th>\n",
       "      <th>Result</th>\n",
       "    </tr>\n",
       "  </thead>\n",
       "  <tbody>\n",
       "    <tr>\n",
       "      <th>SFH</th>\n",
       "      <td>1.000000</td>\n",
       "      <td>0.375943</td>\n",
       "      <td>0.368690</td>\n",
       "      <td>0.257247</td>\n",
       "      <td>0.333703</td>\n",
       "      <td>-0.187082</td>\n",
       "      <td>0.151503</td>\n",
       "      <td>0.163182</td>\n",
       "      <td>0.043349</td>\n",
       "      <td>-0.678277</td>\n",
       "    </tr>\n",
       "    <tr>\n",
       "      <th>popUpWidnow</th>\n",
       "      <td>0.375943</td>\n",
       "      <td>1.000000</td>\n",
       "      <td>0.218050</td>\n",
       "      <td>0.111520</td>\n",
       "      <td>0.167760</td>\n",
       "      <td>-0.140407</td>\n",
       "      <td>0.136229</td>\n",
       "      <td>0.076815</td>\n",
       "      <td>0.123399</td>\n",
       "      <td>-0.509749</td>\n",
       "    </tr>\n",
       "    <tr>\n",
       "      <th>SSLfinal_State</th>\n",
       "      <td>0.368690</td>\n",
       "      <td>0.218050</td>\n",
       "      <td>1.000000</td>\n",
       "      <td>0.057239</td>\n",
       "      <td>0.088525</td>\n",
       "      <td>-0.171719</td>\n",
       "      <td>0.095055</td>\n",
       "      <td>0.208091</td>\n",
       "      <td>0.108000</td>\n",
       "      <td>-0.518762</td>\n",
       "    </tr>\n",
       "    <tr>\n",
       "      <th>Request_URL</th>\n",
       "      <td>0.257247</td>\n",
       "      <td>0.111520</td>\n",
       "      <td>0.057239</td>\n",
       "      <td>1.000000</td>\n",
       "      <td>0.337277</td>\n",
       "      <td>-0.045858</td>\n",
       "      <td>0.048431</td>\n",
       "      <td>0.053348</td>\n",
       "      <td>0.013346</td>\n",
       "      <td>-0.271609</td>\n",
       "    </tr>\n",
       "    <tr>\n",
       "      <th>URL_of_Anchor</th>\n",
       "      <td>0.333703</td>\n",
       "      <td>0.167760</td>\n",
       "      <td>0.088525</td>\n",
       "      <td>0.337277</td>\n",
       "      <td>1.000000</td>\n",
       "      <td>-0.092045</td>\n",
       "      <td>0.097581</td>\n",
       "      <td>0.069178</td>\n",
       "      <td>0.039412</td>\n",
       "      <td>-0.287007</td>\n",
       "    </tr>\n",
       "    <tr>\n",
       "      <th>web_traffic</th>\n",
       "      <td>-0.187082</td>\n",
       "      <td>-0.140407</td>\n",
       "      <td>-0.171719</td>\n",
       "      <td>-0.045858</td>\n",
       "      <td>-0.092045</td>\n",
       "      <td>1.000000</td>\n",
       "      <td>-0.108204</td>\n",
       "      <td>-0.683857</td>\n",
       "      <td>-0.094957</td>\n",
       "      <td>0.243896</td>\n",
       "    </tr>\n",
       "    <tr>\n",
       "      <th>URL_Length</th>\n",
       "      <td>0.151503</td>\n",
       "      <td>0.136229</td>\n",
       "      <td>0.095055</td>\n",
       "      <td>0.048431</td>\n",
       "      <td>0.097581</td>\n",
       "      <td>-0.108204</td>\n",
       "      <td>1.000000</td>\n",
       "      <td>0.075338</td>\n",
       "      <td>0.165152</td>\n",
       "      <td>-0.183061</td>\n",
       "    </tr>\n",
       "    <tr>\n",
       "      <th>age_of_domain</th>\n",
       "      <td>0.163182</td>\n",
       "      <td>0.076815</td>\n",
       "      <td>0.208091</td>\n",
       "      <td>0.053348</td>\n",
       "      <td>0.069178</td>\n",
       "      <td>-0.683857</td>\n",
       "      <td>0.075338</td>\n",
       "      <td>1.000000</td>\n",
       "      <td>0.040379</td>\n",
       "      <td>-0.231931</td>\n",
       "    </tr>\n",
       "    <tr>\n",
       "      <th>having_IP_Address</th>\n",
       "      <td>0.043349</td>\n",
       "      <td>0.123399</td>\n",
       "      <td>0.108000</td>\n",
       "      <td>0.013346</td>\n",
       "      <td>0.039412</td>\n",
       "      <td>-0.094957</td>\n",
       "      <td>0.165152</td>\n",
       "      <td>0.040379</td>\n",
       "      <td>1.000000</td>\n",
       "      <td>-0.059225</td>\n",
       "    </tr>\n",
       "    <tr>\n",
       "      <th>Result</th>\n",
       "      <td>-0.678277</td>\n",
       "      <td>-0.509749</td>\n",
       "      <td>-0.518762</td>\n",
       "      <td>-0.271609</td>\n",
       "      <td>-0.287007</td>\n",
       "      <td>0.243896</td>\n",
       "      <td>-0.183061</td>\n",
       "      <td>-0.231931</td>\n",
       "      <td>-0.059225</td>\n",
       "      <td>1.000000</td>\n",
       "    </tr>\n",
       "  </tbody>\n",
       "</table>\n",
       "</div>"
      ],
      "text/plain": [
       "                        SFH  popUpWidnow  SSLfinal_State  Request_URL  \\\n",
       "SFH                1.000000     0.375943        0.368690     0.257247   \n",
       "popUpWidnow        0.375943     1.000000        0.218050     0.111520   \n",
       "SSLfinal_State     0.368690     0.218050        1.000000     0.057239   \n",
       "Request_URL        0.257247     0.111520        0.057239     1.000000   \n",
       "URL_of_Anchor      0.333703     0.167760        0.088525     0.337277   \n",
       "web_traffic       -0.187082    -0.140407       -0.171719    -0.045858   \n",
       "URL_Length         0.151503     0.136229        0.095055     0.048431   \n",
       "age_of_domain      0.163182     0.076815        0.208091     0.053348   \n",
       "having_IP_Address  0.043349     0.123399        0.108000     0.013346   \n",
       "Result            -0.678277    -0.509749       -0.518762    -0.271609   \n",
       "\n",
       "                   URL_of_Anchor  web_traffic  URL_Length  age_of_domain  \\\n",
       "SFH                     0.333703    -0.187082    0.151503       0.163182   \n",
       "popUpWidnow             0.167760    -0.140407    0.136229       0.076815   \n",
       "SSLfinal_State          0.088525    -0.171719    0.095055       0.208091   \n",
       "Request_URL             0.337277    -0.045858    0.048431       0.053348   \n",
       "URL_of_Anchor           1.000000    -0.092045    0.097581       0.069178   \n",
       "web_traffic            -0.092045     1.000000   -0.108204      -0.683857   \n",
       "URL_Length              0.097581    -0.108204    1.000000       0.075338   \n",
       "age_of_domain           0.069178    -0.683857    0.075338       1.000000   \n",
       "having_IP_Address       0.039412    -0.094957    0.165152       0.040379   \n",
       "Result                 -0.287007     0.243896   -0.183061      -0.231931   \n",
       "\n",
       "                   having_IP_Address    Result  \n",
       "SFH                         0.043349 -0.678277  \n",
       "popUpWidnow                 0.123399 -0.509749  \n",
       "SSLfinal_State              0.108000 -0.518762  \n",
       "Request_URL                 0.013346 -0.271609  \n",
       "URL_of_Anchor               0.039412 -0.287007  \n",
       "web_traffic                -0.094957  0.243896  \n",
       "URL_Length                  0.165152 -0.183061  \n",
       "age_of_domain               0.040379 -0.231931  \n",
       "having_IP_Address           1.000000 -0.059225  \n",
       "Result                     -0.059225  1.000000  "
      ]
     },
     "execution_count": 80,
     "metadata": {},
     "output_type": "execute_result"
    }
   ],
   "source": [
    "websitetraincorr"
   ]
  },
  {
   "cell_type": "code",
   "execution_count": 81,
   "metadata": {},
   "outputs": [
    {
     "data": {
      "image/png": "[encoded data removed]",
      "text/plain": [
       "<matplotlib.figure.Figure at 0x1bafacb2eb8>"
      ]
     },
     "metadata": {},
     "output_type": "display_data"
    }
   ],
   "source": [
    "plt.figure(figsize=(5, 5))\n",
    "plt.imshow(websitetraincorr, cmap='RdYlGn', interpolation='none', aspect='auto')\n",
    "plt.colorbar()\n",
    "plt.xticks(range(len(websitetraincorr)), websitetraincorr.columns, rotation='vertical')\n",
    "plt.yticks(range(len(websitetraincorr)), websitetraincorr.columns);\n",
    "plt.suptitle(' Correlations Heat Map ', fontsize=10, fontweight='bold')\n",
    "plt.show()"
   ]
  },
  {
   "cell_type": "code",
   "execution_count": 82,
   "metadata": {},
   "outputs": [
    {
     "data": {
      "text/plain": [
       "SFH                 -0.678277\n",
       "popUpWidnow         -0.509749\n",
       "SSLfinal_State      -0.518762\n",
       "Request_URL         -0.271609\n",
       "URL_of_Anchor       -0.287007\n",
       "web_traffic          0.243896\n",
       "URL_Length          -0.183061\n",
       "age_of_domain       -0.231931\n",
       "having_IP_Address   -0.059225\n",
       "Result               1.000000\n",
       "Name: Result, dtype: float64"
      ]
     },
     "execution_count": 82,
     "metadata": {},
     "output_type": "execute_result"
    }
   ],
   "source": [
    "websitetraincorr['Result']"
   ]
  },
  {
   "cell_type": "code",
   "execution_count": 83,
   "metadata": {},
   "outputs": [
    {
     "data": {
      "text/plain": [
       "Result               1.000000\n",
       "SFH                  0.678277\n",
       "SSLfinal_State       0.518762\n",
       "popUpWidnow          0.509749\n",
       "URL_of_Anchor        0.287007\n",
       "Request_URL          0.271609\n",
       "web_traffic          0.243896\n",
       "age_of_domain        0.231931\n",
       "URL_Length           0.183061\n",
       "having_IP_Address    0.059225\n",
       "Name: Result, dtype: float64"
      ]
     },
     "execution_count": 83,
     "metadata": {},
     "output_type": "execute_result"
    }
   ],
   "source": [
    "np.abs(websitetraincorr['Result']).sort_values(ascending=False)"
   ]
  },
  {
   "cell_type": "code",
   "execution_count": 84,
   "metadata": {
    "collapsed": true
   },
   "outputs": [],
   "source": [
    "imp_columns = ['SFH','SSLfinal_State','popUpWidnow','URL_of_Anchor','Request_URL','web_traffic','age_of_domain','URL_Length']"
   ]
  },
  {
   "cell_type": "code",
   "execution_count": 85,
   "metadata": {
    "collapsed": true
   },
   "outputs": [],
   "source": [
    "from sklearn.linear_model import LogisticRegression\n",
    "from sklearn.metrics import accuracy_score,confusion_matrix"
   ]
  },
  {
   "cell_type": "code",
   "execution_count": 86,
   "metadata": {},
   "outputs": [],
   "source": [
    "inputData=websitetrain.iloc[:,:9]"
   ]
  },
  {
   "cell_type": "code",
   "execution_count": 87,
   "metadata": {},
   "outputs": [
    {
     "data": {
      "text/plain": [
       "(1353, 9)"
      ]
     },
     "execution_count": 87,
     "metadata": {},
     "output_type": "execute_result"
    }
   ],
   "source": [
    "inputData.shape"
   ]
  },
  {
   "cell_type": "code",
   "execution_count": 88,
   "metadata": {},
   "outputs": [
    {
     "data": {
      "text/plain": [
       "Index(['SFH', 'popUpWidnow', 'SSLfinal_State', 'Request_URL', 'URL_of_Anchor',\n",
       "       'web_traffic', 'URL_Length', 'age_of_domain', 'having_IP_Address'],\n",
       "      dtype='object')"
      ]
     },
     "execution_count": 88,
     "metadata": {},
     "output_type": "execute_result"
    }
   ],
   "source": [
    "inputData.columns"
   ]
  },
  {
   "cell_type": "code",
   "execution_count": 89,
   "metadata": {
    "collapsed": true
   },
   "outputs": [],
   "source": [
    "outputData=websitetrain.iloc[:,9]"
   ]
  },
  {
   "cell_type": "code",
   "execution_count": 90,
   "metadata": {},
   "outputs": [
    {
     "data": {
      "text/plain": [
       "(1353,)"
      ]
     },
     "execution_count": 90,
     "metadata": {},
     "output_type": "execute_result"
    }
   ],
   "source": [
    "outputData.shape"
   ]
  },
  {
   "cell_type": "code",
   "execution_count": 91,
   "metadata": {},
   "outputs": [],
   "source": [
    "logistic=LogisticRegression()"
   ]
  },
  {
   "cell_type": "code",
   "execution_count": 92,
   "metadata": {},
   "outputs": [
    {
     "data": {
      "text/plain": [
       "LogisticRegression(C=1.0, class_weight=None, dual=False, fit_intercept=True,\n",
       "          intercept_scaling=1, max_iter=100, multi_class='ovr', n_jobs=1,\n",
       "          penalty='l2', random_state=None, solver='liblinear', tol=0.0001,\n",
       "          verbose=0, warm_start=False)"
      ]
     },
     "execution_count": 92,
     "metadata": {},
     "output_type": "execute_result"
    }
   ],
   "source": [
    "logistic.fit(inputData,outputData)"
   ]
  },
  {
   "cell_type": "code",
   "execution_count": 93,
   "metadata": {},
   "outputs": [
    {
     "data": {
      "text/plain": [
       "0.83592017738359203"
      ]
     },
     "execution_count": 93,
     "metadata": {},
     "output_type": "execute_result"
    }
   ],
   "source": [
    "logistic.score(inputData,outputData)"
   ]
  },
  {
   "cell_type": "code",
   "execution_count": 94,
   "metadata": {},
   "outputs": [
    {
     "data": {
      "text/plain": [
       "array([[642,  51,  58],\n",
       "       [  1,   1,   2],\n",
       "       [ 59,  51, 488]])"
      ]
     },
     "execution_count": 94,
     "metadata": {},
     "output_type": "execute_result"
    }
   ],
   "source": [
    "confusion_matrix(logistic.predict(inputData),outputData)"
   ]
  },
  {
   "cell_type": "code",
   "execution_count": 95,
   "metadata": {
    "collapsed": true
   },
   "outputs": [],
   "source": [
    "from sklearn.metrics import classification_report"
   ]
  },
  {
   "cell_type": "code",
   "execution_count": 107,
   "metadata": {
    "collapsed": true
   },
   "outputs": [],
   "source": [
    "ClassificationReport1 = classification_report(logistic.predict(inputData),outputData)"
   ]
  },
  {
   "cell_type": "code",
   "execution_count": 109,
   "metadata": {},
   "outputs": [
    {
     "name": "stdout",
     "output_type": "stream",
     "text": [
      "             precision    recall  f1-score   support\n",
      "\n",
      "         -1       0.91      0.85      0.88       751\n",
      "          0       0.01      0.25      0.02         4\n",
      "          1       0.89      0.82      0.85       598\n",
      "\n",
      "avg / total       0.90      0.84      0.87      1353\n",
      "\n"
     ]
    }
   ],
   "source": [
    "print(ClassificationReport1)"
   ]
  },
  {
   "cell_type": "code",
   "execution_count": 110,
   "metadata": {
    "collapsed": true
   },
   "outputs": [],
   "source": [
    "IMPinputData=websitetrain.iloc[:,[0,1,2,3,4,5,6,7] ]"
   ]
  },
  {
   "cell_type": "code",
   "execution_count": 111,
   "metadata": {},
   "outputs": [
    {
     "data": {
      "text/plain": [
       "(1353, 8)"
      ]
     },
     "execution_count": 111,
     "metadata": {},
     "output_type": "execute_result"
    }
   ],
   "source": [
    "IMPinputData.shape"
   ]
  },
  {
   "cell_type": "code",
   "execution_count": 112,
   "metadata": {},
   "outputs": [
    {
     "data": {
      "text/plain": [
       "Index(['SFH', 'popUpWidnow', 'SSLfinal_State', 'Request_URL', 'URL_of_Anchor',\n",
       "       'web_traffic', 'URL_Length', 'age_of_domain'],\n",
       "      dtype='object')"
      ]
     },
     "execution_count": 112,
     "metadata": {},
     "output_type": "execute_result"
    }
   ],
   "source": [
    "IMPinputData.columns"
   ]
  },
  {
   "cell_type": "code",
   "execution_count": 113,
   "metadata": {
    "collapsed": true
   },
   "outputs": [],
   "source": [
    "logisticIMPcolumns =LogisticRegression()"
   ]
  },
  {
   "cell_type": "code",
   "execution_count": 114,
   "metadata": {},
   "outputs": [
    {
     "data": {
      "text/plain": [
       "LogisticRegression(C=1.0, class_weight=None, dual=False, fit_intercept=True,\n",
       "          intercept_scaling=1, max_iter=100, multi_class='ovr', n_jobs=1,\n",
       "          penalty='l2', random_state=None, solver='liblinear', tol=0.0001,\n",
       "          verbose=0, warm_start=False)"
      ]
     },
     "execution_count": 114,
     "metadata": {},
     "output_type": "execute_result"
    }
   ],
   "source": [
    "logisticIMPcolumns.fit(IMPinputData,outputData)"
   ]
  },
  {
   "cell_type": "code",
   "execution_count": 103,
   "metadata": {},
   "outputs": [
    {
     "data": {
      "text/plain": [
       "0.83222468588322251"
      ]
     },
     "execution_count": 103,
     "metadata": {},
     "output_type": "execute_result"
    }
   ],
   "source": [
    "logisticIMPcolumns.score(IMPinputData,outputData)"
   ]
  },
  {
   "cell_type": "code",
   "execution_count": 115,
   "metadata": {},
   "outputs": [
    {
     "data": {
      "text/plain": [
       "array([[642,  51,  61],\n",
       "       [  1,   1,   4],\n",
       "       [ 59,  51, 483]])"
      ]
     },
     "execution_count": 115,
     "metadata": {},
     "output_type": "execute_result"
    }
   ],
   "source": [
    "confusion_matrix(logisticIMPcolumns.predict(IMPinputData),outputData)"
   ]
  },
  {
   "cell_type": "code",
   "execution_count": 117,
   "metadata": {},
   "outputs": [],
   "source": [
    "ClassificationReport2 = classification_report(logisticIMPcolumns.predict(IMPinputData),outputData)"
   ]
  },
  {
   "cell_type": "code",
   "execution_count": 118,
   "metadata": {},
   "outputs": [
    {
     "name": "stdout",
     "output_type": "stream",
     "text": [
      "             precision    recall  f1-score   support\n",
      "\n",
      "         -1       0.91      0.85      0.88       754\n",
      "          0       0.01      0.17      0.02         6\n",
      "          1       0.88      0.81      0.85       593\n",
      "\n",
      "avg / total       0.90      0.83      0.86      1353\n",
      "\n"
     ]
    }
   ],
   "source": [
    "print(ClassificationReport2)"
   ]
  },
  {
   "cell_type": "code",
   "execution_count": null,
   "metadata": {
    "collapsed": true
   },
   "outputs": [],
   "source": []
  }
 ],
 "metadata": {
  "kernelspec": {
   "display_name": "Python 3",
   "language": "python",
   "name": "python3"
  },
  "language_info": {
   "codemirror_mode": {
    "name": "ipython",
    "version": 3
   },
   "file_extension": ".py",
   "mimetype": "text/x-python",
   "name": "python",
   "nbconvert_exporter": "python",
   "pygments_lexer": "ipython3",
   "version": "3.6.1"
  }
 },
 "nbformat": 4,
 "nbformat_minor": 2
}
